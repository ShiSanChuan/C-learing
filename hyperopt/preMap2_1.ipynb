{
 "cells": [
  {
   "cell_type": "code",
   "execution_count": null,
   "metadata": {},
   "outputs": [
    {
     "name": "stdout",
     "output_type": "stream",
     "text": [
      "1: 2129 (387.0, 27.0, 183.0, 28.03225715150736, 1.0, 47.0)\n",
      "2: 1657 (440.0, 125.0, 187.0, 92.12659151002823, 178.0, 1.0)          \n",
      "3: 1529 (154.0, 47.0, 243.0, 48.95087025556396, 47.0, 192.0)          \n",
      "13: 1510 (358.0, 192.0, 211.0, 84.4944112313159, 85.0, 47.0)          \n",
      "22: 1478 (271.0, 196.0, 231.0, 59.981418495625775, 28.0, 20.0)         \n",
      "32: 1475 (445.0, 146.0, 203.0, 55.180475053577055, 60.0, 83.0)        \n",
      "  6%|▌         | 34/600 [46:48<8:16:22, 52.62s/it, best loss: 1475.0] "
     ]
    }
   ],
   "source": [
    "from hyperopt import fmin, tpe, hp, rand\n",
    "import os\n",
    "\n",
    "space = [\n",
    "    hp.quniform('scan_num', 100, 500, 1),\n",
    "    hp.quniform('batch_size', 15, 200, 1),\n",
    "    hp.quniform('check_num', 150, 250, 1),\n",
    "    hp.uniform('len_delta', 0.05, 100),\n",
    "    hp.quniform('priority_dead_line', 0, 400, 1),\n",
    "    hp.quniform('time_delta', 0, 200, 1)\n",
    "]\n",
    "\n",
    "best_loss = 1000000\n",
    "num = 0\n",
    "\n",
    "def func(args):\n",
    "    global num\n",
    "    num += 1\n",
    "    cmd = './preCodeCraft-2019 ' + '2-map-exam-2'\n",
    "    idx = 0\n",
    "    for val in args:\n",
    "        cmd += ' '\n",
    "        if idx != 3:\n",
    "            cmd += str(int(val))\n",
    "        else:\n",
    "            cmd += str(val)\n",
    "        idx += 1\n",
    "    with os.popen(cmd) as f:\n",
    "        loss = int(f.read().strip())\n",
    "        global best_loss\n",
    "        if loss < best_loss:\n",
    "            best_loss = loss\n",
    "            print(str(num) + ': '+ str(best_loss) + ' ' + str(args))\n",
    "        return loss\n",
    "\n",
    "best = fmin(func, space, algo=tpe.suggest, max_evals=600)"
   ]
  },
  {
   "cell_type": "code",
   "execution_count": null,
   "metadata": {},
   "outputs": [],
   "source": []
  }
 ],
 "metadata": {
  "kernelspec": {
   "display_name": "Python 3",
   "language": "python",
   "name": "python3"
  },
  "language_info": {
   "codemirror_mode": {
    "name": "ipython",
    "version": 3
   },
   "file_extension": ".py",
   "mimetype": "text/x-python",
   "name": "python",
   "nbconvert_exporter": "python",
   "pygments_lexer": "ipython3",
   "version": "3.5.2"
  }
 },
 "nbformat": 4,
 "nbformat_minor": 2
}
