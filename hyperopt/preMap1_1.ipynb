{
 "cells": [
  {
   "cell_type": "code",
   "execution_count": null,
   "metadata": {},
   "outputs": [
    {
     "name": "stdout",
     "output_type": "stream",
     "text": [
      "1: 1410 (308.0, 187.0, 192.0, 61.285338841023524, 163.0, 16.0)\n",
      "5: 1371 (265.0, 148.0, 202.0, 99.6437643431418, 126.0, 127.0)         \n",
      "6: 1361 (170.0, 33.0, 220.0, 63.77145074585772, 245.0, 109.0)         \n",
      "11: 1326 (254.0, 147.0, 154.0, 51.752275112841126, 210.0, 200.0)      \n",
      "13: 1323 (334.0, 169.0, 188.0, 36.56908415053227, 224.0, 21.0)        \n",
      "  6%|▌         | 34/600 [48:47<9:22:28, 59.63s/it, best loss: 1323.0]  "
     ]
    }
   ],
   "source": [
    "from hyperopt import fmin, tpe, hp, rand\n",
    "import os\n",
    "\n",
    "space = [\n",
    "    hp.quniform('scan_num', 100, 500, 1),\n",
    "    hp.quniform('batch_size', 15, 200, 1),\n",
    "    hp.quniform('check_num', 150, 250, 1),\n",
    "    hp.uniform('len_delta', 0.05, 100),\n",
    "    hp.quniform('priority_dead_line', 0, 400, 1),\n",
    "    hp.quniform('time_delta', 0, 200, 1)\n",
    "]\n",
    "\n",
    "best_loss = 1000000\n",
    "num = 0\n",
    "\n",
    "def func(args):\n",
    "    global num\n",
    "    num += 1\n",
    "    cmd = './preCodeCraft-2019 ' + '2-map-exam-1'\n",
    "    idx = 0\n",
    "    for val in args:\n",
    "        cmd += ' '\n",
    "        if idx != 3:\n",
    "            cmd += str(int(val))\n",
    "        else:\n",
    "            cmd += str(val)\n",
    "        idx += 1\n",
    "    with os.popen(cmd) as f:\n",
    "        loss = int(f.read().strip())\n",
    "        global best_loss\n",
    "        if loss < best_loss:\n",
    "            best_loss = loss\n",
    "            print(str(num) + ': '+ str(best_loss) + ' ' + str(args))\n",
    "        return loss\n",
    "\n",
    "best = fmin(func, space, algo=tpe.suggest, max_evals=600)"
   ]
  },
  {
   "cell_type": "code",
   "execution_count": null,
   "metadata": {},
   "outputs": [],
   "source": []
  },
  {
   "cell_type": "code",
   "execution_count": null,
   "metadata": {},
   "outputs": [],
   "source": []
  }
 ],
 "metadata": {
  "kernelspec": {
   "display_name": "Python 3",
   "language": "python",
   "name": "python3"
  }
 },
 "nbformat": 4,
 "nbformat_minor": 2
}
