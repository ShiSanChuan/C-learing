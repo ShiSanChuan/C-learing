{
 "cells": [
  {
   "cell_type": "code",
   "execution_count": null,
   "metadata": {},
   "outputs": [],
   "source": [
    "from hyperopt import fmin, tpe, hp, rand\n",
    "import os\n",
    "\n",
    "space = [\n",
    "    hp.quniform('scan_num', 100, 500, 1),\n",
    "    hp.quniform('batch_size', 15, 200, 1),\n",
    "    hp.quniform('check_num', 150, 250, 1),\n",
    "    hp.uniform('len_delta', 0.05, 100),\n",
    "    hp.quniform('priority_dead_line', 0, 1100, 1)\n",
    "]\n",
    "\n",
    "best_loss = 1000000\n",
    "num = 0\n",
    "\n",
    "def func(args):\n",
    "    global num\n",
    "    num += 1\n",
    "    cmd = './CodeCraft-2019 ' + '2-map-training-1'\n",
    "    idx = 0\n",
    "    for val in args:\n",
    "        cmd += ' '\n",
    "        if idx != 3:\n",
    "            cmd += str(int(val))\n",
    "        else:\n",
    "            cmd += str(val)\n",
    "        idx += 1\n",
    "    with os.popen(cmd) as f:\n",
    "        loss = int(f.read().strip())\n",
    "        global best_loss\n",
    "        if loss < best_loss:\n",
    "            best_loss = loss\n",
    "            print(str(num) + ': '+ str(best_loss) + ' ' + str(args))\n",
    "        return loss\n",
    "\n",
    "best = fmin(func, space, algo=tpe.suggest, max_evals=600)"
   ]
  },
  {
   "cell_type": "code",
   "execution_count": null,
   "metadata": {},
   "outputs": [],
   "source": []
  }
 ],
 "metadata": {
  "kernelspec": {
   "display_name": "Python 3",
   "language": "python",
   "name": "python3"
  },
  "language_info": {
   "codemirror_mode": {
    "name": "ipython",
    "version": 3
   },
   "file_extension": ".py",
   "mimetype": "text/x-python",
   "name": "python",
   "nbconvert_exporter": "python",
   "pygments_lexer": "ipython3",
   "version": "3.5.2"
  }
 },
 "nbformat": 4,
 "nbformat_minor": 2
}
